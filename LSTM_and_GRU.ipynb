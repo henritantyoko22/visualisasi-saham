{
  "cells": [
    {
      "cell_type": "markdown",
      "metadata": {
        "id": "ovYBjIr2fWvv"
      },
      "source": [
        "#**Import Libraries and Download Data**"
      ]
    },
    {
      "cell_type": "code",
      "execution_count": null,
      "metadata": {},
      "outputs": [],
      "source": [
        "!pip install Streamlit\n",
        "!pip install yfinance\n",
        "!pip install NumPy\n",
        "!pip install Pandas\n",
        "!pip install Scikit-Learn\n",
        "!pip install TensorFlow\n",
        "!pip install Plotly"
      ]
    },
    {
      "cell_type": "code",
      "execution_count": null,
      "metadata": {},
      "outputs": [],
      "source": [
        "!pip install matplotlib\n",
        "!pip install hyperopt"
      ]
    },
    {
      "cell_type": "code",
      "execution_count": null,
      "metadata": {},
      "outputs": [],
      "source": [
        "!pip install ipykernel\n",
        "!pip install --upgrade nbformat"
      ]
    },
    {
      "cell_type": "code",
      "execution_count": null,
      "metadata": {
        "colab": {
          "base_uri": "https://localhost:8080/"
        },
        "id": "zVpGIFDUfQiV",
        "outputId": "8baae5e6-4fcc-42b9-be5c-17b7b41f91d5"
      },
      "outputs": [],
      "source": [
        "import yfinance as yf\n",
        "import numpy as np\n",
        "import matplotlib.pyplot as plt\n",
        "import pandas as pd\n",
        "import tensorflow as tf\n",
        "from sklearn.preprocessing import MinMaxScaler\n",
        "from tensorflow.keras.models import Sequential\n",
        "from tensorflow.keras.layers import LSTM, GRU, Dense, Dropout\n",
        "from sklearn.metrics import mean_squared_error\n",
        "import math\n",
        "from warnings import simplefilter\n",
        "from hyperopt import fmin, tpe, hp, space_eval, Trials\n",
        "from tensorflow.keras.callbacks import EarlyStopping\n",
        "import plotly.graph_objects as go\n",
        "\n",
        "# Mute sklearn warnings\n",
        "simplefilter(action='ignore', category=FutureWarning)\n",
        "simplefilter(action='ignore', category=DeprecationWarning)\n",
        "\n",
        "# Download stock price data\n",
        "data = yf.download(\"ANTM.JK\", start=\"2019-01-01\", end=\"2024-10-07\")"
      ]
    },
    {
      "cell_type": "code",
      "execution_count": null,
      "metadata": {
        "colab": {
          "base_uri": "https://localhost:8080/"
        },
        "id": "E7IeDCLklpQn",
        "outputId": "d5cd713c-94d0-4fae-f2ca-03425cdd4cde"
      },
      "outputs": [],
      "source": [
        "data.head"
      ]
    },
    {
      "cell_type": "code",
      "execution_count": null,
      "metadata": {
        "colab": {
          "base_uri": "https://localhost:8080/"
        },
        "id": "wyDQJp0Zlq6n",
        "outputId": "9633c233-ee7d-4055-bc0a-a1e4cb75de44"
      },
      "outputs": [],
      "source": [
        "print(data.columns)"
      ]
    },
    {
      "cell_type": "code",
      "execution_count": null,
      "metadata": {
        "colab": {
          "base_uri": "https://localhost:8080/"
        },
        "id": "PxvQhdE6lv1n",
        "outputId": "53c64a40-0403-4173-a987-4c85ac21d828"
      },
      "outputs": [],
      "source": [
        "print(data.shape)"
      ]
    },
    {
      "cell_type": "code",
      "execution_count": null,
      "metadata": {
        "colab": {
          "base_uri": "https://localhost:8080/",
          "height": 300
        },
        "id": "UelxebyYlymn",
        "outputId": "279745b1-34e8-45ef-d464-b1e7500899f8"
      },
      "outputs": [],
      "source": [
        "data.iloc[:, 2:-1].describe()"
      ]
    },
    {
      "cell_type": "code",
      "execution_count": null,
      "metadata": {
        "colab": {
          "base_uri": "https://localhost:8080/"
        },
        "id": "QJWKvczSl1RD",
        "outputId": "ee0d3a96-b772-4542-8eb8-b316c128ea1a"
      },
      "outputs": [],
      "source": [
        "data.info()"
      ]
    },
    {
      "cell_type": "code",
      "execution_count": null,
      "metadata": {
        "id": "bkRbyiOkmII_"
      },
      "outputs": [],
      "source": [
        "#Normalisasi Data : Min-Max Scaler\n",
        "\n",
        "close_prices = data['Close'].values.reshape(-1, 1)\n",
        "scaler = MinMaxScaler(feature_range=(0, 1))\n",
        "scaled_data = scaler.fit_transform(close_prices)"
      ]
    },
    {
      "cell_type": "code",
      "execution_count": null,
      "metadata": {
        "colab": {
          "base_uri": "https://localhost:8080/"
        },
        "id": "DadWLbIHl4HB",
        "outputId": "81a7f372-9812-4f82-958a-db74f18e9fbd"
      },
      "outputs": [],
      "source": [
        "# Extract original and scaled close prices\n",
        "original_close_prices = data['Close'].values\n",
        "scaled_close_prices = scaled_data.flatten()\n",
        "\n",
        "# Calculate statistics\n",
        "original_stats = pd.Series(original_close_prices).describe()\n",
        "scaled_stats = pd.Series(scaled_close_prices).describe()\n",
        "\n",
        "# Print the summary\n",
        "print(\"Original Close Prices Statistics:\")\n",
        "print(original_stats)\n",
        "\n",
        "print(\"\\nScaled Close Prices Statistics:\")\n",
        "print(scaled_stats)\n"
      ]
    },
    {
      "cell_type": "code",
      "execution_count": null,
      "metadata": {
        "colab": {
          "base_uri": "https://localhost:8080/",
          "height": 1000
        },
        "id": "5CIX3Xc-l6f0",
        "outputId": "026625b0-45bc-4f9e-ccc4-d9c47c4b9b7f"
      },
      "outputs": [],
      "source": [
        "import plotly.graph_objects as go\n",
        "from plotly.subplots import make_subplots\n",
        "\n",
        "# Plot all prices\n",
        "fig = go.Figure()\n",
        "\n",
        "fig.add_trace(go.Scatter(x=data.index, y=data['Open'], mode='lines', name='Opening Price', line=dict(color='red')))\n",
        "fig.add_trace(go.Scatter(x=data.index, y=data['Close'], mode='lines', name='Closing Price', line=dict(color='green')))\n",
        "fig.add_trace(go.Scatter(x=data.index, y=data['Low'], mode='lines', name='Low Price', line=dict(color='black')))\n",
        "fig.add_trace(go.Scatter(x=data.index, y=data['High'], mode='lines', name='High Price', line=dict(color='blue')))\n",
        "\n",
        "fig.update_layout(\n",
        "    title='Stock Price History',\n",
        "    xaxis=dict(title='Date'),\n",
        "    yaxis=dict(title='Stock Price'),\n",
        "    legend=dict(x=0, y=1, traceorder='normal', orientation='h'),\n",
        ")\n",
        "\n",
        "# Plot subplots for each individual price\n",
        "fig_subplots = make_subplots(rows=2, cols=2, subplot_titles=('Opening Price', 'Closing Price', 'Low Price', 'High Price'))\n",
        "\n",
        "fig_subplots.add_trace(go.Scatter(x=data.index, y=data['Open'], mode='lines', name='Opening Price', line=dict(color='red')), row=1, col=1)\n",
        "fig_subplots.add_trace(go.Scatter(x=data.index, y=data['Close'], mode='lines', name='Closing Price', line=dict(color='green')), row=1, col=2)\n",
        "fig_subplots.add_trace(go.Scatter(x=data.index, y=data['Low'], mode='lines', name='Low Price', line=dict(color='black')), row=2, col=1)\n",
        "fig_subplots.add_trace(go.Scatter(x=data.index, y=data['High'], mode='lines', name='High Price', line=dict(color='blue')), row=2, col=2)\n",
        "\n",
        "fig_subplots.update_layout(title='Stock Price Subplots', showlegend=False)\n",
        "\n",
        "fig.show()\n",
        "fig_subplots.show()"
      ]
    },
    {
      "cell_type": "markdown",
      "metadata": {
        "id": "r9gIowByfgFD"
      },
      "source": [
        "#**Data Preprocessing and Preparation**"
      ]
    },
    {
      "cell_type": "code",
      "execution_count": null,
      "metadata": {
        "id": "hRUqO2FqfccO"
      },
      "outputs": [],
      "source": [
        "# Data preparation\n",
        "def prepare_data(data, n_steps):\n",
        "    X, y = [], []\n",
        "    for i in range(len(data) - n_steps):\n",
        "        lag_values = data[i:(i + n_steps), 0]\n",
        "        X.append(np.concatenate([lag_values, [data[i + n_steps, 0]]]))\n",
        "        y.append(data[i + n_steps, 0])\n",
        "    return np.array(X), np.array(y)\n",
        "\n",
        "n_steps = 120\n",
        "X, y = prepare_data(scaled_data, n_steps)\n",
        "\n",
        "# Splitting into train and test sets\n",
        "train_size = int(len(X) * 0.8)\n",
        "X_train, X_test = X[:train_size], X[train_size:]\n",
        "y_train, y_test = y[:train_size], y[train_size:]\n",
        "\n",
        "# Reshape data for LSTM and GRU models\n",
        "X_train_lstm = X_train.reshape((X_train.shape[0], X_train.shape[1], 1))\n",
        "X_test_lstm = X_test.reshape((X_test.shape[0], X_test.shape[1], 1))\n",
        "X_train_gru = X_train.reshape((X_train.shape[0], X_train.shape[1], 1))\n",
        "X_test_gru = X_test.reshape((X_test.shape[0], X_test.shape[1], 1))\n"
      ]
    },
    {
      "cell_type": "markdown",
      "metadata": {
        "id": "bPX9Lo8LfmQk"
      },
      "source": [
        "#**Hyperparameter Tuning**"
      ]
    },
    {
      "cell_type": "code",
      "execution_count": null,
      "metadata": {
        "id": "2LaqbEcbfsUW"
      },
      "outputs": [],
      "source": [
        "# Define hyperparameter search space\n",
        "space = {\n",
        "    'units': hp.choice('units', [50, 100, 150]),\n",
        "    'learning_rate': hp.loguniform('learning rate', np.log(0.001), np.log(0.01)),\n",
        "    'epochs': hp.choice('epochs', [50, 100, 150]),\n",
        "    'batch_size': hp.choice('batch_size', [32, 64, 128])\n",
        "}\n",
        "\n",
        "# Define early stopping callback\n",
        "early_stopping = EarlyStopping(monitor='val_loss', patience=10, restore_best_weights=True)\n"
      ]
    },
    {
      "cell_type": "markdown",
      "metadata": {
        "id": "dcQDBaCNfuUh"
      },
      "source": [
        "#**Model Building and Training**"
      ]
    },
    {
      "cell_type": "code",
      "execution_count": null,
      "metadata": {
        "colab": {
          "base_uri": "https://localhost:8080/"
        },
        "id": "vj32gmVaf0CL",
        "outputId": "294bb084-995d-430a-ca6c-5f5bd3a310ae"
      },
      "outputs": [],
      "source": [
        "# Create a function to build and train the model with hyperparameters\n",
        "from tensorflow.keras.optimizers import Adamax\n",
        "\n",
        "def objective(params, model_type, X_train, y_train, X_test, y_test):\n",
        "    model = Sequential()\n",
        "    if model_type == 'lstm':\n",
        "        model.add(LSTM(units=params['units'], return_sequences=True, activation='tanh', input_shape=(X_train.shape[1], 1)))\n",
        "        model.add(LSTM(units=params['units'], return_sequences=False, activation='tanh'))\n",
        "        model.add(Dense(units=1))\n",
        "    elif model_type == 'gru':\n",
        "        model.add(GRU(units=params['units'], return_sequences=True, activation='tanh', input_shape=(X_train.shape[1], 1)))\n",
        "        model.add(GRU(units=params['units'], return_sequences=False, activation='tanh'))\n",
        "        model.add(Dense(units=1))\n",
        "\n",
        "    model.compile(optimizer=Adamax(learning_rate=params['learning_rate']), loss='mean_squared_error')\n",
        "\n",
        "    history = model.fit(X_train, y_train, epochs=params['epochs'], batch_size=params['batch_size'],\n",
        "                        validation_split=0.2, callbacks=[early_stopping], verbose=0)\n",
        "\n",
        "    y_pred = model.predict(X_test)\n",
        "    y_pred = scaler.inverse_transform(y_pred)\n",
        "    y_test_orig = scaler.inverse_transform(y_test.reshape(-1, 1))\n",
        "\n",
        "    mse = mean_squared_error(y_test_orig, y_pred)\n",
        "    return mse, history\n",
        "\n",
        "# Set up the Trials object to keep track of the optimization process\n",
        "trials_lstm = Trials()\n",
        "trials_gru = Trials()\n",
        "\n",
        "# Use the fmin function for Bayesian optimization for LSTM and GRU\n",
        "best_lstm = fmin(fn=lambda params: objective(params, 'lstm', X_train_lstm, y_train, X_test_lstm, y_test)[0],\n",
        "                 space=space, algo=tpe.suggest, max_evals=20, trials=trials_lstm)\n",
        "\n",
        "best_gru = fmin(fn=lambda params: objective(params, 'gru', X_train_gru, y_train, X_test_gru, y_test)[0],\n",
        "                space=space, algo=tpe.suggest, max_evals=20, trials=trials_gru)\n",
        "\n",
        "# Get the best hyperparameters from the optimization results\n",
        "best_params_lstm = space_eval(space, best_lstm)\n",
        "best_params_gru = space_eval(space, best_gru)\n"
      ]
    },
    {
      "cell_type": "markdown",
      "metadata": {
        "id": "4-Z5em12gOSA"
      },
      "source": [
        "#**Final Model and History Plot**"
      ]
    },
    {
      "cell_type": "code",
      "execution_count": null,
      "metadata": {
        "colab": {
          "base_uri": "https://localhost:8080/"
        },
        "id": "F0DqW0UigW_b",
        "outputId": "41ca0ce2-d6ce-486a-be85-0286eb75ed5f"
      },
      "outputs": [],
      "source": [
        "# Build the final LSTM model using the best hyperparameters\n",
        "final_model_lstm = Sequential([\n",
        "    LSTM(units=best_params_lstm['units'], return_sequences=True, input_shape=(X_train_lstm.shape[1], 1)),\n",
        "    LSTM(units=best_params_lstm['units'],return_sequences=False),\n",
        "    Dense(units=1)\n",
        "])\n",
        "\n",
        "final_model_lstm.compile(optimizer=tf.keras.optimizers.Adam(learning_rate=best_params_lstm['learning_rate']),\n",
        "                         loss='mean_squared_error')\n",
        "\n",
        "# Train the final LSTM model\n",
        "history_lstm = final_model_lstm.fit(X_train_lstm, y_train, epochs=best_params_lstm['epochs'],\n",
        "                                    batch_size=best_params_lstm['batch_size'], verbose=2,\n",
        "                                    validation_split=0.1, callbacks=[early_stopping])\n",
        "\n",
        "# Build the final GRU model using the best hyperparameters\n",
        "final_model_gru = Sequential([\n",
        "    GRU(units=best_params_gru['units'], return_sequences=True, input_shape=(X_train_gru.shape[1], 1)),\n",
        "    GRU(units=best_params_gru['units'], return_sequences=False),\n",
        "    Dense(units=1)\n",
        "])\n",
        "\n",
        "final_model_gru.compile(optimizer=tf.keras.optimizers.Adam(learning_rate=best_params_gru['learning_rate']),\n",
        "                        loss='mean_squared_error')\n",
        "\n",
        "# Train the final GRU model\n",
        "history_gru = final_model_gru.fit(X_train_gru, y_train, epochs=best_params_gru['epochs'],\n",
        "                                  batch_size=best_params_gru['batch_size'], verbose=2,\n",
        "                                  validation_data=(X_test_gru, y_test), callbacks=[early_stopping])\n"
      ]
    },
    {
      "cell_type": "markdown",
      "metadata": {
        "id": "SH99tHLWgmEZ"
      },
      "source": [
        "#**Evaluasi Model dan Visualisasi**"
      ]
    },
    {
      "cell_type": "code",
      "execution_count": null,
      "metadata": {
        "colab": {
          "base_uri": "https://localhost:8080/",
          "height": 106
        },
        "id": "6QwDPYqzOuWF",
        "outputId": "5fb489cc-b86e-477e-a051-0a1738ef9925"
      },
      "outputs": [],
      "source": [
        "# from google.colab import files\n",
        "\n",
        "# Save the final LSTM model\n",
        "final_model_lstm.save(\"final_model_lstm.h5\")\n",
        "\n",
        "# Download the saved LSTM model\n",
        "# files.download(\"final_model_lstm.h5\")\n",
        "\n",
        "# Save the final GRU model\n",
        "final_model_gru.save(\"final_model_gru.h5\")\n",
        "\n",
        "# Download the saved GRU model\n",
        "# files.download(\"final_model_gru.h5\")\n"
      ]
    }
  ],
  "metadata": {
    "accelerator": "GPU",
    "colab": {
      "provenance": []
    },
    "kernelspec": {
      "display_name": "Python 3",
      "name": "python3"
    },
    "language_info": {
      "codemirror_mode": {
        "name": "ipython",
        "version": 3
      },
      "file_extension": ".py",
      "mimetype": "text/x-python",
      "name": "python",
      "nbconvert_exporter": "python",
      "pygments_lexer": "ipython3",
      "version": "3.10.13"
    }
  },
  "nbformat": 4,
  "nbformat_minor": 0
}
